{
  "nbformat": 4,
  "nbformat_minor": 0,
  "metadata": {
    "colab": {
      "provenance": [],
      "gpuType": "T4",
      "authorship_tag": "ABX9TyMBrYDrgboXdLF5Vr+TMcvl",
      "include_colab_link": true
    },
    "kernelspec": {
      "name": "python3",
      "display_name": "Python 3"
    },
    "language_info": {
      "name": "python"
    },
    "accelerator": "GPU"
  },
  "cells": [
    {
      "cell_type": "markdown",
      "metadata": {
        "id": "view-in-github",
        "colab_type": "text"
      },
      "source": [
        "<a href=\"https://colab.research.google.com/github/Aritra2k24/machine-learning/blob/main/Copy_of_01_Introduction_to_pytorch_workflow.ipynb\" target=\"_parent\"><img src=\"https://colab.research.google.com/assets/colab-badge.svg\" alt=\"Open In Colab\"/></a>"
      ]
    },
    {
      "cell_type": "markdown",
      "source": [
        "# Pytorch Workflow"
      ],
      "metadata": {
        "id": "GTEzVueK7NDq"
      }
    },
    {
      "cell_type": "code",
      "execution_count": null,
      "metadata": {
        "id": "dvF_I_W7TzMp",
        "colab": {
          "base_uri": "https://localhost:8080/",
          "height": 36
        },
        "outputId": "db4a5400-8835-4bbf-a339-572d03557b44"
      },
      "outputs": [
        {
          "output_type": "execute_result",
          "data": {
            "text/plain": [
              "'2.6.0+cu124'"
            ],
            "application/vnd.google.colaboratory.intrinsic+json": {
              "type": "string"
            }
          },
          "metadata": {},
          "execution_count": 1
        }
      ],
      "source": [
        "import torch\n",
        "torch.__version__"
      ]
    },
    {
      "cell_type": "markdown",
      "source": [
        "we create model in pytorch to learn data and the its patterns"
      ],
      "metadata": {
        "id": "8BGd_Mm-7W33"
      }
    },
    {
      "cell_type": "markdown",
      "source": [
        "# Linear Regression Model"
      ],
      "metadata": {
        "id": "IHw4auTX7jsB"
      }
    },
    {
      "cell_type": "markdown",
      "source": [
        "creating the data"
      ],
      "metadata": {
        "id": "Zzs6uG7gF6st"
      }
    },
    {
      "cell_type": "code",
      "source": [
        "weight = 0.7\n",
        "bias = 0.3\n",
        "start = 0\n",
        "end = 1\n",
        "step = 0.02\n",
        "X = torch.arange(start, end , step).unsqueeze(dim = 1)\n",
        "y = weight * X + bias\n",
        "X[:10], y[:10]"
      ],
      "metadata": {
        "colab": {
          "base_uri": "https://localhost:8080/"
        },
        "id": "MNkVzfnm7iN2",
        "outputId": "a7148688-7879-41c6-a2d0-929e1f748e70"
      },
      "execution_count": null,
      "outputs": [
        {
          "output_type": "execute_result",
          "data": {
            "text/plain": [
              "(tensor([[0.0000],\n",
              "         [0.0200],\n",
              "         [0.0400],\n",
              "         [0.0600],\n",
              "         [0.0800],\n",
              "         [0.1000],\n",
              "         [0.1200],\n",
              "         [0.1400],\n",
              "         [0.1600],\n",
              "         [0.1800]]),\n",
              " tensor([[0.3000],\n",
              "         [0.3140],\n",
              "         [0.3280],\n",
              "         [0.3420],\n",
              "         [0.3560],\n",
              "         [0.3700],\n",
              "         [0.3840],\n",
              "         [0.3980],\n",
              "         [0.4120],\n",
              "         [0.4260]]))"
            ]
          },
          "metadata": {},
          "execution_count": 2
        }
      ]
    },
    {
      "cell_type": "code",
      "source": [
        "X.shape"
      ],
      "metadata": {
        "colab": {
          "base_uri": "https://localhost:8080/"
        },
        "id": "nf-0D2GzcbJW",
        "outputId": "66e50b5f-e4af-49ca-e4ed-95ed21f4c754"
      },
      "execution_count": null,
      "outputs": [
        {
          "output_type": "execute_result",
          "data": {
            "text/plain": [
              "torch.Size([50, 1])"
            ]
          },
          "metadata": {},
          "execution_count": 3
        }
      ]
    },
    {
      "cell_type": "code",
      "source": [
        "len(X), len(y)"
      ],
      "metadata": {
        "colab": {
          "base_uri": "https://localhost:8080/"
        },
        "id": "nvaZrJ8g-tZk",
        "outputId": "368851c9-6c42-41f5-aeb2-eac9102ba15d"
      },
      "execution_count": null,
      "outputs": [
        {
          "output_type": "execute_result",
          "data": {
            "text/plain": [
              "(50, 50)"
            ]
          },
          "metadata": {},
          "execution_count": 4
        }
      ]
    },
    {
      "cell_type": "markdown",
      "source": [
        "# Splitting the data into training and test sets(one of the most important concepts in machine learning in general)"
      ],
      "metadata": {
        "id": "-nQAq_pj9RUF"
      }
    },
    {
      "cell_type": "markdown",
      "source": [
        "let's create a training and test set for the data"
      ],
      "metadata": {
        "id": "ZvwPbvFZ-jKD"
      }
    },
    {
      "cell_type": "code",
      "source": [
        "# create a train/test split\n",
        "train_split = int(0.8 * len(X))\n",
        "X_train, y_train = X[:train_split], y[:train_split]\n",
        "X_test, y_test = X[train_split:], y[train_split:]"
      ],
      "metadata": {
        "id": "i5ECVoKZ9h_l"
      },
      "execution_count": null,
      "outputs": []
    },
    {
      "cell_type": "code",
      "source": [
        "len(X_train),len(y_train),len(X_test),len(y_test)"
      ],
      "metadata": {
        "colab": {
          "base_uri": "https://localhost:8080/"
        },
        "id": "6ovtDzu0_cyZ",
        "outputId": "62bc3a29-6a31-45e5-b5d0-689d497a8301"
      },
      "execution_count": null,
      "outputs": [
        {
          "output_type": "execute_result",
          "data": {
            "text/plain": [
              "(40, 40, 10, 10)"
            ]
          },
          "metadata": {},
          "execution_count": 6
        }
      ]
    },
    {
      "cell_type": "code",
      "source": [
        "X_train, y_train"
      ],
      "metadata": {
        "colab": {
          "base_uri": "https://localhost:8080/"
        },
        "id": "DJ36IYEu_m4B",
        "outputId": "89025164-583e-455a-ee00-03de143b61ef"
      },
      "execution_count": null,
      "outputs": [
        {
          "output_type": "execute_result",
          "data": {
            "text/plain": [
              "(tensor([[0.0000],\n",
              "         [0.0200],\n",
              "         [0.0400],\n",
              "         [0.0600],\n",
              "         [0.0800],\n",
              "         [0.1000],\n",
              "         [0.1200],\n",
              "         [0.1400],\n",
              "         [0.1600],\n",
              "         [0.1800],\n",
              "         [0.2000],\n",
              "         [0.2200],\n",
              "         [0.2400],\n",
              "         [0.2600],\n",
              "         [0.2800],\n",
              "         [0.3000],\n",
              "         [0.3200],\n",
              "         [0.3400],\n",
              "         [0.3600],\n",
              "         [0.3800],\n",
              "         [0.4000],\n",
              "         [0.4200],\n",
              "         [0.4400],\n",
              "         [0.4600],\n",
              "         [0.4800],\n",
              "         [0.5000],\n",
              "         [0.5200],\n",
              "         [0.5400],\n",
              "         [0.5600],\n",
              "         [0.5800],\n",
              "         [0.6000],\n",
              "         [0.6200],\n",
              "         [0.6400],\n",
              "         [0.6600],\n",
              "         [0.6800],\n",
              "         [0.7000],\n",
              "         [0.7200],\n",
              "         [0.7400],\n",
              "         [0.7600],\n",
              "         [0.7800]]),\n",
              " tensor([[0.3000],\n",
              "         [0.3140],\n",
              "         [0.3280],\n",
              "         [0.3420],\n",
              "         [0.3560],\n",
              "         [0.3700],\n",
              "         [0.3840],\n",
              "         [0.3980],\n",
              "         [0.4120],\n",
              "         [0.4260],\n",
              "         [0.4400],\n",
              "         [0.4540],\n",
              "         [0.4680],\n",
              "         [0.4820],\n",
              "         [0.4960],\n",
              "         [0.5100],\n",
              "         [0.5240],\n",
              "         [0.5380],\n",
              "         [0.5520],\n",
              "         [0.5660],\n",
              "         [0.5800],\n",
              "         [0.5940],\n",
              "         [0.6080],\n",
              "         [0.6220],\n",
              "         [0.6360],\n",
              "         [0.6500],\n",
              "         [0.6640],\n",
              "         [0.6780],\n",
              "         [0.6920],\n",
              "         [0.7060],\n",
              "         [0.7200],\n",
              "         [0.7340],\n",
              "         [0.7480],\n",
              "         [0.7620],\n",
              "         [0.7760],\n",
              "         [0.7900],\n",
              "         [0.8040],\n",
              "         [0.8180],\n",
              "         [0.8320],\n",
              "         [0.8460]]))"
            ]
          },
          "metadata": {},
          "execution_count": 7
        }
      ]
    },
    {
      "cell_type": "markdown",
      "source": [
        "# Visualization of Data"
      ],
      "metadata": {
        "id": "4E34cI3LAHAo"
      }
    },
    {
      "cell_type": "code",
      "source": [
        "import matplotlib.pyplot as plt"
      ],
      "metadata": {
        "id": "jwGRKZaxALFT"
      },
      "execution_count": null,
      "outputs": []
    },
    {
      "cell_type": "code",
      "source": [
        "def plot_prediction(train_data = X_train,train_labels = y_train, test_data = X_test, test_labels = y_test,predictions = None):\n",
        "  plt.figure(figsize = (10,7))\n",
        "  # plotting the training set\n",
        "  plt.scatter(train_data, train_labels, c = \"b\",label = 'Training data')\n",
        "  # plotting the test set\n",
        "  plt.scatter(test_data, test_labels, c= 'g',label = 'Testing data')\n",
        "  # plotting the predictions and check if it matches the test set plot\n",
        "  if predictions is not None:\n",
        "    plt.scatter(X_test, predictions,c = 'r',label = 'Predictions')\n",
        "  plt.legend(prop={\"size\" :14});"
      ],
      "metadata": {
        "id": "n4G60bx9B8uG"
      },
      "execution_count": null,
      "outputs": []
    },
    {
      "cell_type": "code",
      "source": [
        "plot_prediction();"
      ],
      "metadata": {
        "colab": {
          "base_uri": "https://localhost:8080/",
          "height": 599
        },
        "id": "DmcvYuJ4EN-p",
        "outputId": "21d8486d-7ab4-40ef-e486-579a01f61ac5"
      },
      "execution_count": null,
      "outputs": [
        {
          "output_type": "display_data",
          "data": {
            "text/plain": [
              "<Figure size 1000x700 with 1 Axes>"
            ],
            "image/png": "[encoded data removed]"
          },
          "metadata": {}
        }
      ]
    },
    {
      "cell_type": "markdown",
      "source": [
        "# Build Model in Pytorch"
      ],
      "metadata": {
        "id": "TfGfyMo2GEis"
      }
    },
    {
      "cell_type": "markdown",
      "source": [
        "Create the linear regression model here\n",
        "what our model does:\n",
        "\n",
        "*  start with random value(weight and bias)\n",
        "\n",
        "*  Look at the training data and adjust the random values to better represent\n",
        "   (or get closer to) the ideal values(weight and bias) we used to create the data\n",
        "\n"
      ],
      "metadata": {
        "id": "yWhv7BZwJDX9"
      }
    },
    {
      "cell_type": "code",
      "source": [
        "from torch import nn\n",
        "# create a linear regression model class#\n",
        "class LinearRegression(nn.Module):\n",
        "  def __init__(self):\n",
        "    super().__init__()\n",
        "    # create the weights and bias\n",
        "    self.weight = nn.Parameter(torch.randn(1,requires_grad = True, dtype =torch.float))\n",
        "    self.bias = nn.Parameter(torch.randn(1,requires_grad = True, dtype = torch.float))\n",
        "    # the computation part\n",
        "  def forward(self, x:torch.Tensor) -> torch.Tensor:\n",
        "    return self.weight * x + self.bias"
      ],
      "metadata": {
        "id": "PumBKUmwENwE"
      },
      "execution_count": null,
      "outputs": []
    },
    {
      "cell_type": "code",
      "source": [
        "torch.manual_seed(42)\n",
        "model_0 = LinearRegression()\n",
        "list(model_0.parameters())"
      ],
      "metadata": {
        "colab": {
          "base_uri": "https://localhost:8080/"
        },
        "id": "1vXlANcEwYS8",
        "outputId": "83b0eb33-f75a-4b8a-95dc-2b87fae7d1b4"
      },
      "execution_count": null,
      "outputs": [
        {
          "output_type": "execute_result",
          "data": {
            "text/plain": [
              "[Parameter containing:\n",
              " tensor([0.3367], requires_grad=True),\n",
              " Parameter containing:\n",
              " tensor([0.1288], requires_grad=True)]"
            ]
          },
          "metadata": {},
          "execution_count": 12
        }
      ]
    },
    {
      "cell_type": "code",
      "source": [
        "model_0.state_dict()"
      ],
      "metadata": {
        "colab": {
          "base_uri": "https://localhost:8080/"
        },
        "id": "8uNxZlk2y5kM",
        "outputId": "2506fc35-f7dd-4d52-d1a6-72a2c683e58b"
      },
      "execution_count": null,
      "outputs": [
        {
          "output_type": "execute_result",
          "data": {
            "text/plain": [
              "OrderedDict([('weight', tensor([0.3367])), ('bias', tensor([0.1288]))])"
            ]
          },
          "metadata": {},
          "execution_count": 13
        }
      ]
    },
    {
      "cell_type": "markdown",
      "source": [
        "# Making prediction using torch.inference_mode()\n",
        "To check our model's predictive power, let's see how well it predicts y_test based on X_test\n",
        "\n",
        "When we pass data through our model, it's going to run it through the forward() method."
      ],
      "metadata": {
        "id": "vI_3F_n48nNF"
      }
    },
    {
      "cell_type": "code",
      "source": [
        "model_0(X_test)"
      ],
      "metadata": {
        "colab": {
          "base_uri": "https://localhost:8080/"
        },
        "id": "_yS3RWRfDH3t",
        "outputId": "c895d094-cbda-43bf-aabf-720d735a5d86"
      },
      "execution_count": null,
      "outputs": [
        {
          "output_type": "execute_result",
          "data": {
            "text/plain": [
              "tensor([[0.3982],\n",
              "        [0.4049],\n",
              "        [0.4116],\n",
              "        [0.4184],\n",
              "        [0.4251],\n",
              "        [0.4318],\n",
              "        [0.4386],\n",
              "        [0.4453],\n",
              "        [0.4520],\n",
              "        [0.4588]], grad_fn=<AddBackward0>)"
            ]
          },
          "metadata": {},
          "execution_count": 14
        }
      ]
    },
    {
      "cell_type": "code",
      "source": [
        "# make predictions with model\n",
        "with torch.inference_mode(): # no gradient tracking and calculation during making predictions #\n",
        "  y_pred = model_0(X_test)\n",
        "y_pred"
      ],
      "metadata": {
        "colab": {
          "base_uri": "https://localhost:8080/"
        },
        "id": "_zvDAOZM9Oy3",
        "outputId": "0fd6d5a4-997a-48ad-9f4f-93c036d4ea66"
      },
      "execution_count": null,
      "outputs": [
        {
          "output_type": "execute_result",
          "data": {
            "text/plain": [
              "tensor([[0.3982],\n",
              "        [0.4049],\n",
              "        [0.4116],\n",
              "        [0.4184],\n",
              "        [0.4251],\n",
              "        [0.4318],\n",
              "        [0.4386],\n",
              "        [0.4453],\n",
              "        [0.4520],\n",
              "        [0.4588]])"
            ]
          },
          "metadata": {},
          "execution_count": 15
        }
      ]
    },
    {
      "cell_type": "code",
      "source": [
        "y_test"
      ],
      "metadata": {
        "colab": {
          "base_uri": "https://localhost:8080/"
        },
        "id": "3FYx9xKHBIU_",
        "outputId": "a3383746-0a85-4c98-a186-e65297c88d97"
      },
      "execution_count": null,
      "outputs": [
        {
          "output_type": "execute_result",
          "data": {
            "text/plain": [
              "tensor([[0.8600],\n",
              "        [0.8740],\n",
              "        [0.8880],\n",
              "        [0.9020],\n",
              "        [0.9160],\n",
              "        [0.9300],\n",
              "        [0.9440],\n",
              "        [0.9580],\n",
              "        [0.9720],\n",
              "        [0.9860]])"
            ]
          },
          "metadata": {},
          "execution_count": 16
        }
      ]
    },
    {
      "cell_type": "code",
      "source": [
        "plot_prediction(predictions = y_pred)"
      ],
      "metadata": {
        "colab": {
          "base_uri": "https://localhost:8080/",
          "height": 599
        },
        "id": "93R0smqzBiRf",
        "outputId": "bfd70745-b345-4ee7-c4ac-3f35d85b5136"
      },
      "execution_count": null,
      "outputs": [
        {
          "output_type": "display_data",
          "data": {
            "text/plain": [
              "<Figure size 1000x700 with 1 Axes>"
            ],
            "image/png": "[encoded data removed]"
          },
          "metadata": {}
        }
      ]
    },
    {
      "cell_type": "code",
      "source": [
        "model_0.weight"
      ],
      "metadata": {
        "colab": {
          "base_uri": "https://localhost:8080/"
        },
        "id": "snHkC3bhCRFA",
        "outputId": "7c30be7a-1aea-4679-cd61-10b1a754e1c2"
      },
      "execution_count": null,
      "outputs": [
        {
          "output_type": "execute_result",
          "data": {
            "text/plain": [
              "Parameter containing:\n",
              "tensor([0.3367], requires_grad=True)"
            ]
          },
          "metadata": {},
          "execution_count": 18
        }
      ]
    },
    {
      "cell_type": "code",
      "source": [
        "model_0.bias"
      ],
      "metadata": {
        "colab": {
          "base_uri": "https://localhost:8080/"
        },
        "id": "g3a0pNAICUsm",
        "outputId": "90a33148-3f07-494a-cb8b-5da389da2e6a"
      },
      "execution_count": null,
      "outputs": [
        {
          "output_type": "execute_result",
          "data": {
            "text/plain": [
              "Parameter containing:\n",
              "tensor([0.1288], requires_grad=True)"
            ]
          },
          "metadata": {},
          "execution_count": 19
        }
      ]
    },
    {
      "cell_type": "code",
      "source": [
        "model_0.forward(X_test)"
      ],
      "metadata": {
        "colab": {
          "base_uri": "https://localhost:8080/"
        },
        "id": "pgU8KXUaCZJz",
        "outputId": "31b72e86-241f-41f1-b4df-80156037f8ec"
      },
      "execution_count": null,
      "outputs": [
        {
          "output_type": "execute_result",
          "data": {
            "text/plain": [
              "tensor([[0.3982],\n",
              "        [0.4049],\n",
              "        [0.4116],\n",
              "        [0.4184],\n",
              "        [0.4251],\n",
              "        [0.4318],\n",
              "        [0.4386],\n",
              "        [0.4453],\n",
              "        [0.4520],\n",
              "        [0.4588]], grad_fn=<AddBackward0>)"
            ]
          },
          "metadata": {},
          "execution_count": 20
        }
      ]
    },
    {
      "cell_type": "code",
      "source": [
        "model_0(X_test)"
      ],
      "metadata": {
        "colab": {
          "base_uri": "https://localhost:8080/"
        },
        "id": "4zaKro8QCj8s",
        "outputId": "f05744b2-8c8f-4001-d6b6-fb831f766876"
      },
      "execution_count": null,
      "outputs": [
        {
          "output_type": "execute_result",
          "data": {
            "text/plain": [
              "tensor([[0.3982],\n",
              "        [0.4049],\n",
              "        [0.4116],\n",
              "        [0.4184],\n",
              "        [0.4251],\n",
              "        [0.4318],\n",
              "        [0.4386],\n",
              "        [0.4453],\n",
              "        [0.4520],\n",
              "        [0.4588]], grad_fn=<AddBackward0>)"
            ]
          },
          "metadata": {},
          "execution_count": 21
        }
      ]
    },
    {
      "cell_type": "markdown",
      "source": [
        "# Model parameters in the list form"
      ],
      "metadata": {
        "id": "YIEHrSfnIzxp"
      }
    },
    {
      "cell_type": "code",
      "source": [
        "list(model_0.parameters())"
      ],
      "metadata": {
        "colab": {
          "base_uri": "https://localhost:8080/"
        },
        "id": "P1nXaz36IbzB",
        "outputId": "68edc0e7-f4c9-4b9a-d667-40a575804eec"
      },
      "execution_count": null,
      "outputs": [
        {
          "output_type": "execute_result",
          "data": {
            "text/plain": [
              "[Parameter containing:\n",
              " tensor([0.3367], requires_grad=True),\n",
              " Parameter containing:\n",
              " tensor([0.1288], requires_grad=True)]"
            ]
          },
          "metadata": {},
          "execution_count": 22
        }
      ]
    },
    {
      "cell_type": "markdown",
      "source": [
        "# Model parameters in the dictionary form"
      ],
      "metadata": {
        "id": "-s4hinN_IrcD"
      }
    },
    {
      "cell_type": "code",
      "source": [
        "model_0.state_dict()"
      ],
      "metadata": {
        "colab": {
          "base_uri": "https://localhost:8080/"
        },
        "id": "qPHnTkJ3ImQY",
        "outputId": "6894f58f-adc5-42fd-a394-1a731fcf023f"
      },
      "execution_count": null,
      "outputs": [
        {
          "output_type": "execute_result",
          "data": {
            "text/plain": [
              "OrderedDict([('weight', tensor([0.3367])), ('bias', tensor([0.1288]))])"
            ]
          },
          "metadata": {},
          "execution_count": 23
        }
      ]
    },
    {
      "cell_type": "markdown",
      "source": [
        "# Evaluation of the model\n",
        "We can do that by defining a loss function(or cost function) and an optimizer to find the optimal value of our model parameters to make our prediction more close to the actual output value.\n",
        "\n",
        "Loss Function:- Find the mean difference of the predicted datapoints and the actual datapoints\n",
        "\n",
        "Optimizer:- Optimize the loss function with various traditional algorithm to make the prediction better\n",
        "\n",
        "Inside the optimizer there are a set of parameters:\n",
        "\n",
        "\n",
        "*   params - the model parameters we like to optimize, for example params = model_0.parameters()\n",
        "*   lr(learning rate) - the learning rate is a hyperparameter that defines how big/small the optimizer changes the parameters with each step(a small lr results in small changes , a large lr results in large changes)\n",
        "\n",
        "\n",
        "\n"
      ],
      "metadata": {
        "id": "IFnqc6EcHzqX"
      }
    },
    {
      "cell_type": "code",
      "source": [
        "# set up a loss function\n",
        "loss_fn = torch.nn.L1Loss()     # loss_fn = torch.mean(torch.abs(y_pred-y_test)) # Mean Absolute Error #\n",
        "# Set up the optimizer #\n",
        "optimizer = torch.optim.SGD(params = model_0.parameters(),lr = 0.01,momentum = 0.9)"
      ],
      "metadata": {
        "id": "gIXNvfqEISFG"
      },
      "execution_count": null,
      "outputs": []
    },
    {
      "cell_type": "markdown",
      "source": [
        "Which loss function and optimizer should I use?\n",
        "\n",
        "This will be the problem specific. But with experience, you'll get an idea of what works and what does'nt with your particular problem set\n",
        "\n",
        "For example, for a regression problem, a loss func. of` nn.L1Loss()`and an optimizer like\n",
        "`torch.optim.SGD()` will suffice\n",
        "\n",
        "But for a classification problem like classifying whether a photo is of dog or a cat, you'll likely want to use a loss function of `nn.BCELoss()` (binary cross entropy loss)\n",
        "\n",
        "\n",
        "\n",
        "\n"
      ],
      "metadata": {
        "id": "KytxlckGOoIs"
      }
    },
    {
      "cell_type": "markdown",
      "source": [
        "# Building a training loop and testing loop"
      ],
      "metadata": {
        "id": "pc4E9rNhQFSI"
      }
    },
    {
      "cell_type": "code",
      "source": [
        "# an epoch is one loop through the data..(this is a hyperparameter)\n",
        "epochs = 200\n",
        "# tracking the values through the training loop #\n",
        "epoch_count = []\n",
        "loss_values = []\n",
        "test_loss_values = []\n",
        "\n",
        "# loop through the data\n",
        "for epoch in range(epochs):\n",
        "  # set the model into training mode...\n",
        "\n",
        "  model_0.train() # train mode in pytorch sets all parameters that require gradients to zero\n",
        "\n",
        "  y_pred = model_0(X_train)\n",
        "\n",
        "  loss = loss_fn(y_pred, y_train)\n",
        "\n",
        "  print(loss) # loss during training\n",
        "\n",
        "  optimizer.zero_grad() # used to avoid the accumulation of gradients at after each iteration of the training loop #\n",
        "\n",
        "  loss.backward() # perform back propagation #\n",
        "  print(loss) # after backpropagation the loss value\n",
        "\n",
        "  optimizer.step() # perform gradient descent\n",
        "\n",
        "   # testing loop #\n",
        "  model_0.eval() # disables gradient calculations and certain operations to training ensuring that the model is used solely for prediction\n",
        "\n",
        "  with torch.inference_mode(): # tracking off the gradient changing during testing\n",
        "    y_pred_new = model_0(X_test)\n",
        "    test_loss = loss_fn(y_pred_new, y_test)\n",
        "  if epoch %10 == 0:\n",
        "    epoch_count.append(epoch)\n",
        "    loss_values.append(loss)\n",
        "    test_loss_values.append(test_loss)\n",
        "    print(f'epoch:{epoch}| loss:{loss} | test_loss:{test_loss}')\n",
        "    print(f'model_parameters:{model_0.state_dict()}')\n",
        "\n"
      ],
      "metadata": {
        "id": "_Tx6ogH-P75a",
        "colab": {
          "base_uri": "https://localhost:8080/"
        },
        "outputId": "2f21b77e-7b00-4e1c-a806-add3a22be0f4"
      },
      "execution_count": null,
      "outputs": [
        {
          "output_type": "stream",
          "name": "stdout",
          "text": [
            "tensor(0.3129, grad_fn=<MeanBackward0>)\n",
            "tensor(0.3129, grad_fn=<MeanBackward0>)\n",
            "epoch:0| loss:0.31288138031959534 | test_loss:0.48106518387794495\n",
            "model_parameters:OrderedDict([('weight', tensor([0.3406])), ('bias', tensor([0.1388]))])\n",
            "tensor(0.3014, grad_fn=<MeanBackward0>)\n",
            "tensor(0.3014, grad_fn=<MeanBackward0>)\n",
            "tensor(0.2795, grad_fn=<MeanBackward0>)\n",
            "tensor(0.2795, grad_fn=<MeanBackward0>)\n",
            "tensor(0.2482, grad_fn=<MeanBackward0>)\n",
            "tensor(0.2482, grad_fn=<MeanBackward0>)\n",
            "tensor(0.2086, grad_fn=<MeanBackward0>)\n",
            "tensor(0.2086, grad_fn=<MeanBackward0>)\n",
            "tensor(0.1614, grad_fn=<MeanBackward0>)\n",
            "tensor(0.1614, grad_fn=<MeanBackward0>)\n",
            "tensor(0.1079, grad_fn=<MeanBackward0>)\n",
            "tensor(0.1079, grad_fn=<MeanBackward0>)\n",
            "tensor(0.0654, grad_fn=<MeanBackward0>)\n",
            "tensor(0.0654, grad_fn=<MeanBackward0>)\n",
            "tensor(0.0509, grad_fn=<MeanBackward0>)\n",
            "tensor(0.0509, grad_fn=<MeanBackward0>)\n",
            "tensor(0.0679, grad_fn=<MeanBackward0>)\n",
            "tensor(0.0679, grad_fn=<MeanBackward0>)\n",
            "tensor(0.1031, grad_fn=<MeanBackward0>)\n",
            "tensor(0.1031, grad_fn=<MeanBackward0>)\n",
            "epoch:10| loss:0.10313145816326141 | test_loss:0.026505161076784134\n",
            "model_parameters:OrderedDict([('weight', tensor([0.4982])), ('bias', tensor([0.5061]))])\n",
            "tensor(0.1274, grad_fn=<MeanBackward0>)\n",
            "tensor(0.1274, grad_fn=<MeanBackward0>)\n",
            "tensor(0.1377, grad_fn=<MeanBackward0>)\n",
            "tensor(0.1377, grad_fn=<MeanBackward0>)\n",
            "tensor(0.1355, grad_fn=<MeanBackward0>)\n",
            "tensor(0.1355, grad_fn=<MeanBackward0>)\n",
            "tensor(0.1220, grad_fn=<MeanBackward0>)\n",
            "tensor(0.1220, grad_fn=<MeanBackward0>)\n",
            "tensor(0.0983, grad_fn=<MeanBackward0>)\n",
            "tensor(0.0983, grad_fn=<MeanBackward0>)\n",
            "tensor(0.0675, grad_fn=<MeanBackward0>)\n",
            "tensor(0.0675, grad_fn=<MeanBackward0>)\n",
            "tensor(0.0483, grad_fn=<MeanBackward0>)\n",
            "tensor(0.0483, grad_fn=<MeanBackward0>)\n",
            "tensor(0.0465, grad_fn=<MeanBackward0>)\n",
            "tensor(0.0465, grad_fn=<MeanBackward0>)\n",
            "tensor(0.0565, grad_fn=<MeanBackward0>)\n",
            "tensor(0.0565, grad_fn=<MeanBackward0>)\n",
            "tensor(0.0696, grad_fn=<MeanBackward0>)\n",
            "tensor(0.0696, grad_fn=<MeanBackward0>)\n",
            "epoch:20| loss:0.06960087269544601 | test_loss:0.1943041831254959\n",
            "model_parameters:OrderedDict([('weight', tensor([0.4652])), ('bias', tensor([0.3147]))])\n",
            "tensor(0.0784, grad_fn=<MeanBackward0>)\n",
            "tensor(0.0784, grad_fn=<MeanBackward0>)\n",
            "tensor(0.0792, grad_fn=<MeanBackward0>)\n",
            "tensor(0.0792, grad_fn=<MeanBackward0>)\n",
            "tensor(0.0713, grad_fn=<MeanBackward0>)\n",
            "tensor(0.0713, grad_fn=<MeanBackward0>)\n",
            "tensor(0.0578, grad_fn=<MeanBackward0>)\n",
            "tensor(0.0578, grad_fn=<MeanBackward0>)\n",
            "tensor(0.0440, grad_fn=<MeanBackward0>)\n",
            "tensor(0.0440, grad_fn=<MeanBackward0>)\n",
            "tensor(0.0355, grad_fn=<MeanBackward0>)\n",
            "tensor(0.0355, grad_fn=<MeanBackward0>)\n",
            "tensor(0.0355, grad_fn=<MeanBackward0>)\n",
            "tensor(0.0355, grad_fn=<MeanBackward0>)\n",
            "tensor(0.0425, grad_fn=<MeanBackward0>)\n",
            "tensor(0.0425, grad_fn=<MeanBackward0>)\n",
            "tensor(0.0488, grad_fn=<MeanBackward0>)\n",
            "tensor(0.0488, grad_fn=<MeanBackward0>)\n",
            "tensor(0.0466, grad_fn=<MeanBackward0>)\n",
            "tensor(0.0466, grad_fn=<MeanBackward0>)\n",
            "epoch:30| loss:0.04656733572483063 | test_loss:0.027078520506620407\n",
            "model_parameters:OrderedDict([('weight', tensor([0.5785])), ('bias', tensor([0.3811]))])\n",
            "tensor(0.0360, grad_fn=<MeanBackward0>)\n",
            "tensor(0.0360, grad_fn=<MeanBackward0>)\n",
            "tensor(0.0262, grad_fn=<MeanBackward0>)\n",
            "tensor(0.0262, grad_fn=<MeanBackward0>)\n",
            "tensor(0.0239, grad_fn=<MeanBackward0>)\n",
            "tensor(0.0239, grad_fn=<MeanBackward0>)\n",
            "tensor(0.0279, grad_fn=<MeanBackward0>)\n",
            "tensor(0.0279, grad_fn=<MeanBackward0>)\n",
            "tensor(0.0320, grad_fn=<MeanBackward0>)\n",
            "tensor(0.0320, grad_fn=<MeanBackward0>)\n",
            "tensor(0.0306, grad_fn=<MeanBackward0>)\n",
            "tensor(0.0306, grad_fn=<MeanBackward0>)\n",
            "tensor(0.0227, grad_fn=<MeanBackward0>)\n",
            "tensor(0.0227, grad_fn=<MeanBackward0>)\n",
            "tensor(0.0140, grad_fn=<MeanBackward0>)\n",
            "tensor(0.0140, grad_fn=<MeanBackward0>)\n",
            "tensor(0.0145, grad_fn=<MeanBackward0>)\n",
            "tensor(0.0145, grad_fn=<MeanBackward0>)\n",
            "tensor(0.0213, grad_fn=<MeanBackward0>)\n",
            "tensor(0.0213, grad_fn=<MeanBackward0>)\n",
            "epoch:40| loss:0.021285563707351685 | test_loss:0.001966828014701605\n",
            "model_parameters:OrderedDict([('weight', tensor([0.6690])), ('bias', tensor([0.3293]))])\n",
            "tensor(0.0171, grad_fn=<MeanBackward0>)\n",
            "tensor(0.0171, grad_fn=<MeanBackward0>)\n",
            "tensor(0.0057, grad_fn=<MeanBackward0>)\n",
            "tensor(0.0057, grad_fn=<MeanBackward0>)\n",
            "tensor(0.0128, grad_fn=<MeanBackward0>)\n",
            "tensor(0.0128, grad_fn=<MeanBackward0>)\n",
            "tensor(0.0145, grad_fn=<MeanBackward0>)\n",
            "tensor(0.0145, grad_fn=<MeanBackward0>)\n",
            "tensor(0.0045, grad_fn=<MeanBackward0>)\n",
            "tensor(0.0045, grad_fn=<MeanBackward0>)\n",
            "tensor(0.0160, grad_fn=<MeanBackward0>)\n",
            "tensor(0.0160, grad_fn=<MeanBackward0>)\n",
            "tensor(0.0230, grad_fn=<MeanBackward0>)\n",
            "tensor(0.0230, grad_fn=<MeanBackward0>)\n",
            "tensor(0.0177, grad_fn=<MeanBackward0>)\n",
            "tensor(0.0177, grad_fn=<MeanBackward0>)\n",
            "tensor(0.0043, grad_fn=<MeanBackward0>)\n",
            "tensor(0.0043, grad_fn=<MeanBackward0>)\n",
            "tensor(0.0157, grad_fn=<MeanBackward0>)\n",
            "tensor(0.0157, grad_fn=<MeanBackward0>)\n",
            "epoch:50| loss:0.015717655420303345 | test_loss:0.0101406155154109\n",
            "model_parameters:OrderedDict([('weight', tensor([0.7189])), ('bias', tensor([0.2730]))])\n",
            "tensor(0.0196, grad_fn=<MeanBackward0>)\n",
            "tensor(0.0196, grad_fn=<MeanBackward0>)\n",
            "tensor(0.0116, grad_fn=<MeanBackward0>)\n",
            "tensor(0.0116, grad_fn=<MeanBackward0>)\n",
            "tensor(0.0084, grad_fn=<MeanBackward0>)\n",
            "tensor(0.0084, grad_fn=<MeanBackward0>)\n",
            "tensor(0.0171, grad_fn=<MeanBackward0>)\n",
            "tensor(0.0171, grad_fn=<MeanBackward0>)\n",
            "tensor(0.0146, grad_fn=<MeanBackward0>)\n",
            "tensor(0.0146, grad_fn=<MeanBackward0>)\n",
            "tensor(0.0064, grad_fn=<MeanBackward0>)\n",
            "tensor(0.0064, grad_fn=<MeanBackward0>)\n",
            "tensor(0.0130, grad_fn=<MeanBackward0>)\n",
            "tensor(0.0130, grad_fn=<MeanBackward0>)\n",
            "tensor(0.0139, grad_fn=<MeanBackward0>)\n",
            "tensor(0.0139, grad_fn=<MeanBackward0>)\n",
            "tensor(0.0058, grad_fn=<MeanBackward0>)\n",
            "tensor(0.0058, grad_fn=<MeanBackward0>)\n",
            "tensor(0.0094, grad_fn=<MeanBackward0>)\n",
            "tensor(0.0094, grad_fn=<MeanBackward0>)\n",
            "epoch:60| loss:0.009445277974009514 | test_loss:0.02402856945991516\n",
            "model_parameters:OrderedDict([('weight', tensor([0.7263])), ('bias', tensor([0.3007]))])\n",
            "tensor(0.0109, grad_fn=<MeanBackward0>)\n",
            "tensor(0.0109, grad_fn=<MeanBackward0>)\n",
            "tensor(0.0041, grad_fn=<MeanBackward0>)\n",
            "tensor(0.0041, grad_fn=<MeanBackward0>)\n",
            "tensor(0.0101, grad_fn=<MeanBackward0>)\n",
            "tensor(0.0101, grad_fn=<MeanBackward0>)\n",
            "tensor(0.0084, grad_fn=<MeanBackward0>)\n",
            "tensor(0.0084, grad_fn=<MeanBackward0>)\n",
            "tensor(0.0046, grad_fn=<MeanBackward0>)\n",
            "tensor(0.0046, grad_fn=<MeanBackward0>)\n",
            "tensor(0.0048, grad_fn=<MeanBackward0>)\n",
            "tensor(0.0048, grad_fn=<MeanBackward0>)\n",
            "tensor(0.0065, grad_fn=<MeanBackward0>)\n",
            "tensor(0.0065, grad_fn=<MeanBackward0>)\n",
            "tensor(0.0052, grad_fn=<MeanBackward0>)\n",
            "tensor(0.0052, grad_fn=<MeanBackward0>)\n",
            "tensor(0.0075, grad_fn=<MeanBackward0>)\n",
            "tensor(0.0075, grad_fn=<MeanBackward0>)\n",
            "tensor(0.0074, grad_fn=<MeanBackward0>)\n",
            "tensor(0.0074, grad_fn=<MeanBackward0>)\n",
            "epoch:70| loss:0.007414478808641434 | test_loss:0.007351130247116089\n",
            "model_parameters:OrderedDict([('weight', tensor([0.6937])), ('bias', tensor([0.2983]))])\n",
            "tensor(0.0042, grad_fn=<MeanBackward0>)\n",
            "tensor(0.0042, grad_fn=<MeanBackward0>)\n",
            "tensor(0.0031, grad_fn=<MeanBackward0>)\n",
            "tensor(0.0031, grad_fn=<MeanBackward0>)\n",
            "tensor(0.0094, grad_fn=<MeanBackward0>)\n",
            "tensor(0.0094, grad_fn=<MeanBackward0>)\n",
            "tensor(0.0091, grad_fn=<MeanBackward0>)\n",
            "tensor(0.0091, grad_fn=<MeanBackward0>)\n",
            "tensor(0.0030, grad_fn=<MeanBackward0>)\n",
            "tensor(0.0030, grad_fn=<MeanBackward0>)\n",
            "tensor(0.0058, grad_fn=<MeanBackward0>)\n",
            "tensor(0.0058, grad_fn=<MeanBackward0>)\n",
            "tensor(0.0029, grad_fn=<MeanBackward0>)\n",
            "tensor(0.0029, grad_fn=<MeanBackward0>)\n",
            "tensor(0.0025, grad_fn=<MeanBackward0>)\n",
            "tensor(0.0025, grad_fn=<MeanBackward0>)\n",
            "tensor(0.0058, grad_fn=<MeanBackward0>)\n",
            "tensor(0.0058, grad_fn=<MeanBackward0>)\n",
            "tensor(0.0018, grad_fn=<MeanBackward0>)\n",
            "tensor(0.0018, grad_fn=<MeanBackward0>)\n",
            "epoch:80| loss:0.0018297977512702346 | test_loss:0.009309673681855202\n",
            "model_parameters:OrderedDict([('weight', tensor([0.6994])), ('bias', tensor([0.3098]))])\n",
            "tensor(0.0096, grad_fn=<MeanBackward0>)\n",
            "tensor(0.0096, grad_fn=<MeanBackward0>)\n",
            "tensor(0.0082, grad_fn=<MeanBackward0>)\n",
            "tensor(0.0082, grad_fn=<MeanBackward0>)\n",
            "tensor(0.0047, grad_fn=<MeanBackward0>)\n",
            "tensor(0.0047, grad_fn=<MeanBackward0>)\n",
            "tensor(0.0047, grad_fn=<MeanBackward0>)\n",
            "tensor(0.0047, grad_fn=<MeanBackward0>)\n",
            "tensor(0.0068, grad_fn=<MeanBackward0>)\n",
            "tensor(0.0068, grad_fn=<MeanBackward0>)\n",
            "tensor(0.0057, grad_fn=<MeanBackward0>)\n",
            "tensor(0.0057, grad_fn=<MeanBackward0>)\n",
            "tensor(0.0069, grad_fn=<MeanBackward0>)\n",
            "tensor(0.0069, grad_fn=<MeanBackward0>)\n",
            "tensor(0.0067, grad_fn=<MeanBackward0>)\n",
            "tensor(0.0067, grad_fn=<MeanBackward0>)\n",
            "tensor(0.0050, grad_fn=<MeanBackward0>)\n",
            "tensor(0.0050, grad_fn=<MeanBackward0>)\n",
            "tensor(0.0041, grad_fn=<MeanBackward0>)\n",
            "tensor(0.0041, grad_fn=<MeanBackward0>)\n",
            "epoch:90| loss:0.004054517950862646 | test_loss:0.004079228732734919\n",
            "model_parameters:OrderedDict([('weight', tensor([0.7076])), ('bias', tensor([0.2892]))])\n",
            "tensor(0.0079, grad_fn=<MeanBackward0>)\n",
            "tensor(0.0079, grad_fn=<MeanBackward0>)\n",
            "tensor(0.0071, grad_fn=<MeanBackward0>)\n",
            "tensor(0.0071, grad_fn=<MeanBackward0>)\n",
            "tensor(0.0052, grad_fn=<MeanBackward0>)\n",
            "tensor(0.0052, grad_fn=<MeanBackward0>)\n",
            "tensor(0.0047, grad_fn=<MeanBackward0>)\n",
            "tensor(0.0047, grad_fn=<MeanBackward0>)\n",
            "tensor(0.0058, grad_fn=<MeanBackward0>)\n",
            "tensor(0.0058, grad_fn=<MeanBackward0>)\n",
            "tensor(0.0037, grad_fn=<MeanBackward0>)\n",
            "tensor(0.0037, grad_fn=<MeanBackward0>)\n",
            "tensor(0.0078, grad_fn=<MeanBackward0>)\n",
            "tensor(0.0078, grad_fn=<MeanBackward0>)\n",
            "tensor(0.0066, grad_fn=<MeanBackward0>)\n",
            "tensor(0.0066, grad_fn=<MeanBackward0>)\n",
            "tensor(0.0060, grad_fn=<MeanBackward0>)\n",
            "tensor(0.0060, grad_fn=<MeanBackward0>)\n",
            "tensor(0.0058, grad_fn=<MeanBackward0>)\n",
            "tensor(0.0058, grad_fn=<MeanBackward0>)\n",
            "epoch:100| loss:0.005789133254438639 | test_loss:0.011751467362046242\n",
            "model_parameters:OrderedDict([('weight', tensor([0.7117])), ('bias', tensor([0.3013]))])\n",
            "tensor(0.0059, grad_fn=<MeanBackward0>)\n",
            "tensor(0.0059, grad_fn=<MeanBackward0>)\n",
            "tensor(0.0049, grad_fn=<MeanBackward0>)\n",
            "tensor(0.0049, grad_fn=<MeanBackward0>)\n",
            "tensor(0.0075, grad_fn=<MeanBackward0>)\n",
            "tensor(0.0075, grad_fn=<MeanBackward0>)\n",
            "tensor(0.0072, grad_fn=<MeanBackward0>)\n",
            "tensor(0.0072, grad_fn=<MeanBackward0>)\n",
            "tensor(0.0046, grad_fn=<MeanBackward0>)\n",
            "tensor(0.0046, grad_fn=<MeanBackward0>)\n",
            "tensor(0.0038, grad_fn=<MeanBackward0>)\n",
            "tensor(0.0038, grad_fn=<MeanBackward0>)\n",
            "tensor(0.0080, grad_fn=<MeanBackward0>)\n",
            "tensor(0.0080, grad_fn=<MeanBackward0>)\n",
            "tensor(0.0072, grad_fn=<MeanBackward0>)\n",
            "tensor(0.0072, grad_fn=<MeanBackward0>)\n",
            "tensor(0.0052, grad_fn=<MeanBackward0>)\n",
            "tensor(0.0052, grad_fn=<MeanBackward0>)\n",
            "tensor(0.0047, grad_fn=<MeanBackward0>)\n",
            "tensor(0.0047, grad_fn=<MeanBackward0>)\n",
            "epoch:110| loss:0.004738811403512955 | test_loss:0.004858058877289295\n",
            "model_parameters:OrderedDict([('weight', tensor([0.7046])), ('bias', tensor([0.2910]))])\n",
            "tensor(0.0072, grad_fn=<MeanBackward0>)\n",
            "tensor(0.0072, grad_fn=<MeanBackward0>)\n",
            "tensor(0.0064, grad_fn=<MeanBackward0>)\n",
            "tensor(0.0064, grad_fn=<MeanBackward0>)\n",
            "tensor(0.0059, grad_fn=<MeanBackward0>)\n",
            "tensor(0.0059, grad_fn=<MeanBackward0>)\n",
            "tensor(0.0054, grad_fn=<MeanBackward0>)\n",
            "tensor(0.0054, grad_fn=<MeanBackward0>)\n",
            "tensor(0.0066, grad_fn=<MeanBackward0>)\n",
            "tensor(0.0066, grad_fn=<MeanBackward0>)\n",
            "tensor(0.0058, grad_fn=<MeanBackward0>)\n",
            "tensor(0.0058, grad_fn=<MeanBackward0>)\n",
            "tensor(0.0063, grad_fn=<MeanBackward0>)\n",
            "tensor(0.0063, grad_fn=<MeanBackward0>)\n",
            "tensor(0.0058, grad_fn=<MeanBackward0>)\n",
            "tensor(0.0058, grad_fn=<MeanBackward0>)\n",
            "tensor(0.0062, grad_fn=<MeanBackward0>)\n",
            "tensor(0.0062, grad_fn=<MeanBackward0>)\n",
            "tensor(0.0055, grad_fn=<MeanBackward0>)\n",
            "tensor(0.0055, grad_fn=<MeanBackward0>)\n",
            "epoch:120| loss:0.0055055171251297 | test_loss:0.010634839534759521\n",
            "model_parameters:OrderedDict([('weight', tensor([0.7080])), ('bias', tensor([0.3035]))])\n",
            "tensor(0.0067, grad_fn=<MeanBackward0>)\n",
            "tensor(0.0067, grad_fn=<MeanBackward0>)\n",
            "tensor(0.0061, grad_fn=<MeanBackward0>)\n",
            "tensor(0.0061, grad_fn=<MeanBackward0>)\n",
            "tensor(0.0060, grad_fn=<MeanBackward0>)\n",
            "tensor(0.0060, grad_fn=<MeanBackward0>)\n",
            "tensor(0.0053, grad_fn=<MeanBackward0>)\n",
            "tensor(0.0053, grad_fn=<MeanBackward0>)\n",
            "tensor(0.0069, grad_fn=<MeanBackward0>)\n",
            "tensor(0.0069, grad_fn=<MeanBackward0>)\n",
            "tensor(0.0063, grad_fn=<MeanBackward0>)\n",
            "tensor(0.0063, grad_fn=<MeanBackward0>)\n",
            "tensor(0.0058, grad_fn=<MeanBackward0>)\n",
            "tensor(0.0058, grad_fn=<MeanBackward0>)\n",
            "tensor(0.0051, grad_fn=<MeanBackward0>)\n",
            "tensor(0.0051, grad_fn=<MeanBackward0>)\n",
            "tensor(0.0070, grad_fn=<MeanBackward0>)\n",
            "tensor(0.0070, grad_fn=<MeanBackward0>)\n",
            "tensor(0.0064, grad_fn=<MeanBackward0>)\n",
            "tensor(0.0064, grad_fn=<MeanBackward0>)\n",
            "epoch:130| loss:0.006374833639711142 | test_loss:0.00403820862993598\n",
            "model_parameters:OrderedDict([('weight', tensor([0.7033])), ('bias', tensor([0.2930]))])\n",
            "tensor(0.0057, grad_fn=<MeanBackward0>)\n",
            "tensor(0.0057, grad_fn=<MeanBackward0>)\n",
            "tensor(0.0050, grad_fn=<MeanBackward0>)\n",
            "tensor(0.0050, grad_fn=<MeanBackward0>)\n",
            "tensor(0.0071, grad_fn=<MeanBackward0>)\n",
            "tensor(0.0071, grad_fn=<MeanBackward0>)\n",
            "tensor(0.0065, grad_fn=<MeanBackward0>)\n",
            "tensor(0.0065, grad_fn=<MeanBackward0>)\n",
            "tensor(0.0056, grad_fn=<MeanBackward0>)\n",
            "tensor(0.0056, grad_fn=<MeanBackward0>)\n",
            "tensor(0.0050, grad_fn=<MeanBackward0>)\n",
            "tensor(0.0050, grad_fn=<MeanBackward0>)\n",
            "tensor(0.0071, grad_fn=<MeanBackward0>)\n",
            "tensor(0.0071, grad_fn=<MeanBackward0>)\n",
            "tensor(0.0065, grad_fn=<MeanBackward0>)\n",
            "tensor(0.0065, grad_fn=<MeanBackward0>)\n",
            "tensor(0.0056, grad_fn=<MeanBackward0>)\n",
            "tensor(0.0056, grad_fn=<MeanBackward0>)\n",
            "tensor(0.0049, grad_fn=<MeanBackward0>)\n",
            "tensor(0.0049, grad_fn=<MeanBackward0>)\n",
            "epoch:140| loss:0.004935057368129492 | test_loss:0.010920673608779907\n",
            "model_parameters:OrderedDict([('weight', tensor([0.7075])), ('bias', tensor([0.3042]))])\n",
            "tensor(0.0072, grad_fn=<MeanBackward0>)\n",
            "tensor(0.0072, grad_fn=<MeanBackward0>)\n",
            "tensor(0.0065, grad_fn=<MeanBackward0>)\n",
            "tensor(0.0065, grad_fn=<MeanBackward0>)\n",
            "tensor(0.0056, grad_fn=<MeanBackward0>)\n",
            "tensor(0.0056, grad_fn=<MeanBackward0>)\n",
            "tensor(0.0049, grad_fn=<MeanBackward0>)\n",
            "tensor(0.0049, grad_fn=<MeanBackward0>)\n",
            "tensor(0.0072, grad_fn=<MeanBackward0>)\n",
            "tensor(0.0072, grad_fn=<MeanBackward0>)\n",
            "tensor(0.0066, grad_fn=<MeanBackward0>)\n",
            "tensor(0.0066, grad_fn=<MeanBackward0>)\n",
            "tensor(0.0055, grad_fn=<MeanBackward0>)\n",
            "tensor(0.0055, grad_fn=<MeanBackward0>)\n",
            "tensor(0.0049, grad_fn=<MeanBackward0>)\n",
            "tensor(0.0049, grad_fn=<MeanBackward0>)\n",
            "tensor(0.0072, grad_fn=<MeanBackward0>)\n",
            "tensor(0.0072, grad_fn=<MeanBackward0>)\n",
            "tensor(0.0066, grad_fn=<MeanBackward0>)\n",
            "tensor(0.0066, grad_fn=<MeanBackward0>)\n",
            "epoch:150| loss:0.006573740392923355 | test_loss:0.003938627429306507\n",
            "model_parameters:OrderedDict([('weight', tensor([0.7032])), ('bias', tensor([0.2933]))])\n",
            "tensor(0.0055, grad_fn=<MeanBackward0>)\n",
            "tensor(0.0055, grad_fn=<MeanBackward0>)\n",
            "tensor(0.0049, grad_fn=<MeanBackward0>)\n",
            "tensor(0.0049, grad_fn=<MeanBackward0>)\n",
            "tensor(0.0072, grad_fn=<MeanBackward0>)\n",
            "tensor(0.0072, grad_fn=<MeanBackward0>)\n",
            "tensor(0.0066, grad_fn=<MeanBackward0>)\n",
            "tensor(0.0066, grad_fn=<MeanBackward0>)\n",
            "tensor(0.0055, grad_fn=<MeanBackward0>)\n",
            "tensor(0.0055, grad_fn=<MeanBackward0>)\n",
            "tensor(0.0049, grad_fn=<MeanBackward0>)\n",
            "tensor(0.0049, grad_fn=<MeanBackward0>)\n",
            "tensor(0.0072, grad_fn=<MeanBackward0>)\n",
            "tensor(0.0072, grad_fn=<MeanBackward0>)\n",
            "tensor(0.0066, grad_fn=<MeanBackward0>)\n",
            "tensor(0.0066, grad_fn=<MeanBackward0>)\n",
            "tensor(0.0055, grad_fn=<MeanBackward0>)\n",
            "tensor(0.0055, grad_fn=<MeanBackward0>)\n",
            "tensor(0.0049, grad_fn=<MeanBackward0>)\n",
            "tensor(0.0049, grad_fn=<MeanBackward0>)\n",
            "epoch:160| loss:0.004865675233304501 | test_loss:0.01095543522387743\n",
            "model_parameters:OrderedDict([('weight', tensor([0.7075])), ('bias', tensor([0.3043]))])\n",
            "tensor(0.0072, grad_fn=<MeanBackward0>)\n",
            "tensor(0.0072, grad_fn=<MeanBackward0>)\n",
            "tensor(0.0066, grad_fn=<MeanBackward0>)\n",
            "tensor(0.0066, grad_fn=<MeanBackward0>)\n",
            "tensor(0.0055, grad_fn=<MeanBackward0>)\n",
            "tensor(0.0055, grad_fn=<MeanBackward0>)\n",
            "tensor(0.0049, grad_fn=<MeanBackward0>)\n",
            "tensor(0.0049, grad_fn=<MeanBackward0>)\n",
            "tensor(0.0072, grad_fn=<MeanBackward0>)\n",
            "tensor(0.0072, grad_fn=<MeanBackward0>)\n",
            "tensor(0.0066, grad_fn=<MeanBackward0>)\n",
            "tensor(0.0066, grad_fn=<MeanBackward0>)\n",
            "tensor(0.0055, grad_fn=<MeanBackward0>)\n",
            "tensor(0.0055, grad_fn=<MeanBackward0>)\n",
            "tensor(0.0049, grad_fn=<MeanBackward0>)\n",
            "tensor(0.0049, grad_fn=<MeanBackward0>)\n",
            "tensor(0.0072, grad_fn=<MeanBackward0>)\n",
            "tensor(0.0072, grad_fn=<MeanBackward0>)\n",
            "tensor(0.0066, grad_fn=<MeanBackward0>)\n",
            "tensor(0.0066, grad_fn=<MeanBackward0>)\n",
            "epoch:170| loss:0.006597887724637985 | test_loss:0.003926604986190796\n",
            "model_parameters:OrderedDict([('weight', tensor([0.7031])), ('bias', tensor([0.2933]))])\n",
            "tensor(0.0055, grad_fn=<MeanBackward0>)\n",
            "tensor(0.0055, grad_fn=<MeanBackward0>)\n",
            "tensor(0.0049, grad_fn=<MeanBackward0>)\n",
            "tensor(0.0049, grad_fn=<MeanBackward0>)\n",
            "tensor(0.0072, grad_fn=<MeanBackward0>)\n",
            "tensor(0.0072, grad_fn=<MeanBackward0>)\n",
            "tensor(0.0066, grad_fn=<MeanBackward0>)\n",
            "tensor(0.0066, grad_fn=<MeanBackward0>)\n",
            "tensor(0.0055, grad_fn=<MeanBackward0>)\n",
            "tensor(0.0055, grad_fn=<MeanBackward0>)\n",
            "tensor(0.0049, grad_fn=<MeanBackward0>)\n",
            "tensor(0.0049, grad_fn=<MeanBackward0>)\n",
            "tensor(0.0072, grad_fn=<MeanBackward0>)\n",
            "tensor(0.0072, grad_fn=<MeanBackward0>)\n",
            "tensor(0.0066, grad_fn=<MeanBackward0>)\n",
            "tensor(0.0066, grad_fn=<MeanBackward0>)\n",
            "tensor(0.0055, grad_fn=<MeanBackward0>)\n",
            "tensor(0.0055, grad_fn=<MeanBackward0>)\n",
            "tensor(0.0049, grad_fn=<MeanBackward0>)\n",
            "tensor(0.0049, grad_fn=<MeanBackward0>)\n",
            "epoch:180| loss:0.004857304040342569 | test_loss:0.010959595441818237\n",
            "model_parameters:OrderedDict([('weight', tensor([0.7074])), ('bias', tensor([0.3043]))])\n",
            "tensor(0.0072, grad_fn=<MeanBackward0>)\n",
            "tensor(0.0072, grad_fn=<MeanBackward0>)\n",
            "tensor(0.0066, grad_fn=<MeanBackward0>)\n",
            "tensor(0.0066, grad_fn=<MeanBackward0>)\n",
            "tensor(0.0055, grad_fn=<MeanBackward0>)\n",
            "tensor(0.0055, grad_fn=<MeanBackward0>)\n",
            "tensor(0.0049, grad_fn=<MeanBackward0>)\n",
            "tensor(0.0049, grad_fn=<MeanBackward0>)\n",
            "tensor(0.0072, grad_fn=<MeanBackward0>)\n",
            "tensor(0.0072, grad_fn=<MeanBackward0>)\n",
            "tensor(0.0066, grad_fn=<MeanBackward0>)\n",
            "tensor(0.0066, grad_fn=<MeanBackward0>)\n",
            "tensor(0.0055, grad_fn=<MeanBackward0>)\n",
            "tensor(0.0055, grad_fn=<MeanBackward0>)\n",
            "tensor(0.0049, grad_fn=<MeanBackward0>)\n",
            "tensor(0.0049, grad_fn=<MeanBackward0>)\n",
            "tensor(0.0072, grad_fn=<MeanBackward0>)\n",
            "tensor(0.0072, grad_fn=<MeanBackward0>)\n",
            "tensor(0.0066, grad_fn=<MeanBackward0>)\n",
            "tensor(0.0066, grad_fn=<MeanBackward0>)\n",
            "epoch:190| loss:0.006600748747587204 | test_loss:0.003925210330635309\n",
            "model_parameters:OrderedDict([('weight', tensor([0.7031])), ('bias', tensor([0.2933]))])\n",
            "tensor(0.0055, grad_fn=<MeanBackward0>)\n",
            "tensor(0.0055, grad_fn=<MeanBackward0>)\n",
            "tensor(0.0049, grad_fn=<MeanBackward0>)\n",
            "tensor(0.0049, grad_fn=<MeanBackward0>)\n",
            "tensor(0.0072, grad_fn=<MeanBackward0>)\n",
            "tensor(0.0072, grad_fn=<MeanBackward0>)\n",
            "tensor(0.0066, grad_fn=<MeanBackward0>)\n",
            "tensor(0.0066, grad_fn=<MeanBackward0>)\n",
            "tensor(0.0055, grad_fn=<MeanBackward0>)\n",
            "tensor(0.0055, grad_fn=<MeanBackward0>)\n",
            "tensor(0.0049, grad_fn=<MeanBackward0>)\n",
            "tensor(0.0049, grad_fn=<MeanBackward0>)\n",
            "tensor(0.0072, grad_fn=<MeanBackward0>)\n",
            "tensor(0.0072, grad_fn=<MeanBackward0>)\n",
            "tensor(0.0066, grad_fn=<MeanBackward0>)\n",
            "tensor(0.0066, grad_fn=<MeanBackward0>)\n",
            "tensor(0.0055, grad_fn=<MeanBackward0>)\n",
            "tensor(0.0055, grad_fn=<MeanBackward0>)\n"
          ]
        }
      ]
    },
    {
      "cell_type": "code",
      "source": [
        "import numpy as np\n",
        "loss_values = torch.tensor(loss_values).cpu().numpy()\n",
        "test_loss_values = torch.tensor(test_loss_values).cpu().numpy()\n",
        "loss_values, test_loss_values"
      ],
      "metadata": {
        "colab": {
          "base_uri": "https://localhost:8080/"
        },
        "id": "yGLUPz2tXhSr",
        "outputId": "64d253f3-1341-46b7-c520-5bece7330733"
      },
      "execution_count": null,
      "outputs": [
        {
          "output_type": "execute_result",
          "data": {
            "text/plain": [
              "(array([0.31288138, 0.10313146, 0.06960087, 0.04656734, 0.02128556,\n",
              "        0.01571766, 0.00944528, 0.00741448, 0.0018298 , 0.00405452,\n",
              "        0.00578913, 0.00473881, 0.00550552, 0.00637483, 0.00493506,\n",
              "        0.00657374, 0.00486568, 0.00659789, 0.0048573 , 0.00660075],\n",
              "       dtype=float32),\n",
              " array([0.48106518, 0.02650516, 0.19430418, 0.02707852, 0.00196683,\n",
              "        0.01014062, 0.02402857, 0.00735113, 0.00930967, 0.00407923,\n",
              "        0.01175147, 0.00485806, 0.01063484, 0.00403821, 0.01092067,\n",
              "        0.00393863, 0.01095544, 0.0039266 , 0.0109596 , 0.00392521],\n",
              "       dtype=float32))"
            ]
          },
          "metadata": {},
          "execution_count": 26
        }
      ]
    },
    {
      "cell_type": "code",
      "source": [
        "plt.plot(epoch_count,loss_values,label = 'training loss')\n",
        "plt.plot(epoch_count,test_loss_values,label = 'test loss')\n",
        "plt.title('training and test loss curves')\n",
        "plt.ylabel('loss')\n",
        "plt.xlabel('epochs')\n",
        "plt.legend();"
      ],
      "metadata": {
        "colab": {
          "base_uri": "https://localhost:8080/",
          "height": 472
        },
        "id": "adS7rbj1FSVl",
        "outputId": "9190425e-fb2f-46c4-87b7-1bb409c076ca"
      },
      "execution_count": null,
      "outputs": [
        {
          "output_type": "display_data",
          "data": {
            "text/plain": [
              "<Figure size 640x480 with 1 Axes>"
            ],
            "image/png": "[encoded data removed]"
          },
          "metadata": {}
        }
      ]
    },
    {
      "cell_type": "code",
      "source": [
        "list(model_0.parameters())"
      ],
      "metadata": {
        "colab": {
          "base_uri": "https://localhost:8080/"
        },
        "id": "hAKYTXnB_7Ll",
        "outputId": "57984ecd-c1e9-4bb3-f67f-89a9be4980a3"
      },
      "execution_count": null,
      "outputs": [
        {
          "output_type": "execute_result",
          "data": {
            "text/plain": [
              "[Parameter containing:\n",
              " tensor([0.7034], requires_grad=True),\n",
              " Parameter containing:\n",
              " tensor([0.2938], requires_grad=True)]"
            ]
          },
          "metadata": {},
          "execution_count": 28
        }
      ]
    },
    {
      "cell_type": "code",
      "source": [
        "plot_prediction(predictions = y_pred_new)"
      ],
      "metadata": {
        "colab": {
          "base_uri": "https://localhost:8080/",
          "height": 599
        },
        "id": "NsGaMlhpFbSF",
        "outputId": "81ecaadc-f481-4f3f-950c-1bbf788ed9f0"
      },
      "execution_count": null,
      "outputs": [
        {
          "output_type": "display_data",
          "data": {
            "text/plain": [
              "<Figure size 1000x700 with 1 Axes>"
            ],
            "image/png": "[encoded data removed]"
          },
          "metadata": {}
        }
      ]
    },
    {
      "cell_type": "markdown",
      "source": [
        "# Saving the model in Pytorch"
      ],
      "metadata": {
        "id": "z2agDlj1aZ1a"
      }
    },
    {
      "cell_type": "code",
      "source": [
        "from pathlib import Path\n",
        "model_path = Path('models')\n",
        "model_path.mkdir(parents = True, exist_ok = True)\n",
        "model_name = '01.pytorch_workflow_model.pth'\n",
        "save_path = model_path / model_name\n",
        "print(f'saving model to:{save_path}')\n",
        "torch.save(obj = model_0.state_dict(),f = save_path)"
      ],
      "metadata": {
        "colab": {
          "base_uri": "https://localhost:8080/"
        },
        "id": "u-dJ4KXWaZJP",
        "outputId": "f8fc4ab1-6d4a-4fa4-d9bf-31fad69c83d5"
      },
      "execution_count": null,
      "outputs": [
        {
          "output_type": "stream",
          "name": "stdout",
          "text": [
            "saving model to:models/01.pytorch_workflow_model.pth\n"
          ]
        }
      ]
    },
    {
      "cell_type": "code",
      "source": [
        "!ls -1 models"
      ],
      "metadata": {
        "id": "VuBn84dPd47Q",
        "outputId": "e7f02078-dbfb-46ce-8757-41db8325a171",
        "colab": {
          "base_uri": "https://localhost:8080/"
        }
      },
      "execution_count": null,
      "outputs": [
        {
          "output_type": "stream",
          "name": "stdout",
          "text": [
            "01.pytorch_workflow_model.pth\n"
          ]
        }
      ]
    },
    {
      "cell_type": "markdown",
      "source": [
        "# Loading the saved model\n",
        "\n",
        "To load  in a saved state_dict we have to instantiate a new instance of the model class\n",
        "\n",
        "load the saved state_dict of model_0(this will update the new instance with updated parameters)\n"
      ],
      "metadata": {
        "id": "3FNudv-hkcxj"
      }
    },
    {
      "cell_type": "code",
      "source": [
        "loaded_model_0 = LinearRegression()\n",
        "loaded_model_0.load_state_dict(torch.load(f = save_path))\n"
      ],
      "metadata": {
        "colab": {
          "base_uri": "https://localhost:8080/"
        },
        "id": "k9dSf8EckMYG",
        "outputId": "9a49a39b-2a5e-4fa6-84cc-baa37dfa5061"
      },
      "execution_count": null,
      "outputs": [
        {
          "output_type": "execute_result",
          "data": {
            "text/plain": [
              "<All keys matched successfully>"
            ]
          },
          "metadata": {},
          "execution_count": 32
        }
      ]
    },
    {
      "cell_type": "code",
      "source": [
        "loaded_model_0.state_dict()"
      ],
      "metadata": {
        "colab": {
          "base_uri": "https://localhost:8080/"
        },
        "id": "JjTc0jLZoMUX",
        "outputId": "989fb7e4-ce17-4680-99a6-9f15f58cc902"
      },
      "execution_count": null,
      "outputs": [
        {
          "output_type": "execute_result",
          "data": {
            "text/plain": [
              "OrderedDict([('weight', tensor([0.7034])), ('bias', tensor([0.2938]))])"
            ]
          },
          "metadata": {},
          "execution_count": 34
        }
      ]
    },
    {
      "cell_type": "markdown",
      "source": [
        "make some prediction with the loaded model"
      ],
      "metadata": {
        "id": "Vw5JRVy2odRI"
      }
    },
    {
      "cell_type": "code",
      "source": [
        " loaded_model_0.eval()\n",
        " with torch.inference_mode():\n",
        "  y_loaded_pred = loaded_model_0(X_test)"
      ],
      "metadata": {
        "id": "cuiE3ecDoMRA"
      },
      "execution_count": null,
      "outputs": []
    },
    {
      "cell_type": "code",
      "source": [
        "y_loaded_pred"
      ],
      "metadata": {
        "colab": {
          "base_uri": "https://localhost:8080/"
        },
        "id": "w6-cu906o8ur",
        "outputId": "81c72c39-c60e-4a23-caa3-4fa28ee9607c"
      },
      "execution_count": null,
      "outputs": [
        {
          "output_type": "execute_result",
          "data": {
            "text/plain": [
              "tensor([[0.8565],\n",
              "        [0.8706],\n",
              "        [0.8847],\n",
              "        [0.8987],\n",
              "        [0.9128],\n",
              "        [0.9269],\n",
              "        [0.9409],\n",
              "        [0.9550],\n",
              "        [0.9691],\n",
              "        [0.9831]])"
            ]
          },
          "metadata": {},
          "execution_count": 36
        }
      ]
    },
    {
      "cell_type": "code",
      "source": [
        "y_pred_new == y_loaded_pred"
      ],
      "metadata": {
        "colab": {
          "base_uri": "https://localhost:8080/"
        },
        "id": "utQlZSryo_jH",
        "outputId": "131096b2-755b-4514-afa2-a24578340fd1"
      },
      "execution_count": null,
      "outputs": [
        {
          "output_type": "execute_result",
          "data": {
            "text/plain": [
              "tensor([[True],\n",
              "        [True],\n",
              "        [True],\n",
              "        [True],\n",
              "        [True],\n",
              "        [True],\n",
              "        [True],\n",
              "        [True],\n",
              "        [True],\n",
              "        [True]])"
            ]
          },
          "metadata": {},
          "execution_count": 38
        }
      ]
    },
    {
      "cell_type": "markdown",
      "source": [
        "# Putting all together"
      ],
      "metadata": {
        "id": "6M8StLhGqIK-"
      }
    },
    {
      "cell_type": "code",
      "source": [
        "import torch\n",
        "from torch import nn\n",
        "import matplotlib.pyplot as plt"
      ],
      "metadata": {
        "id": "dfVds4ojqHZ8"
      },
      "execution_count": null,
      "outputs": []
    },
    {
      "cell_type": "markdown",
      "source": [
        "# device agnoustic code"
      ],
      "metadata": {
        "id": "RfCWXEairADz"
      }
    },
    {
      "cell_type": "code",
      "source": [
        "device = 'cuda' if torch.cuda.is_available() else 'cpu'\n",
        "device"
      ],
      "metadata": {
        "colab": {
          "base_uri": "https://localhost:8080/",
          "height": 36
        },
        "id": "EFXmtFWRqcNK",
        "outputId": "e9c9e7f5-3338-439e-dd34-6cac2f00a7c7"
      },
      "execution_count": null,
      "outputs": [
        {
          "output_type": "execute_result",
          "data": {
            "text/plain": [
              "'cuda'"
            ],
            "application/vnd.google.colaboratory.intrinsic+json": {
              "type": "string"
            }
          },
          "metadata": {},
          "execution_count": 41
        }
      ]
    },
    {
      "cell_type": "markdown",
      "source": [
        "# data"
      ],
      "metadata": {
        "id": "4vfSBpoZrKuu"
      }
    },
    {
      "cell_type": "code",
      "source": [
        "weight = 0.7\n",
        "bias = 0.3\n",
        "start = 0\n",
        "end = 1\n",
        "step = 0.02\n",
        "X = torch.arange(start, end, step).unsqueeze(dim = 1)\n",
        "y = weight * X + bias\n",
        "X[:10],y[:10]"
      ],
      "metadata": {
        "colab": {
          "base_uri": "https://localhost:8080/"
        },
        "id": "lHk2-r21rMGL",
        "outputId": "7d7beb55-df78-4227-e8c7-5a099cc10841"
      },
      "execution_count": null,
      "outputs": [
        {
          "output_type": "execute_result",
          "data": {
            "text/plain": [
              "(tensor([[0.0000],\n",
              "         [0.0200],\n",
              "         [0.0400],\n",
              "         [0.0600],\n",
              "         [0.0800],\n",
              "         [0.1000],\n",
              "         [0.1200],\n",
              "         [0.1400],\n",
              "         [0.1600],\n",
              "         [0.1800]]),\n",
              " tensor([[0.3000],\n",
              "         [0.3140],\n",
              "         [0.3280],\n",
              "         [0.3420],\n",
              "         [0.3560],\n",
              "         [0.3700],\n",
              "         [0.3840],\n",
              "         [0.3980],\n",
              "         [0.4120],\n",
              "         [0.4260]]))"
            ]
          },
          "metadata": {},
          "execution_count": 42
        }
      ]
    },
    {
      "cell_type": "markdown",
      "source": [
        "split the data"
      ],
      "metadata": {
        "id": "JorDakhmtqDv"
      }
    },
    {
      "cell_type": "code",
      "source": [
        "train_split = int(0.8* len(X))\n",
        "X_train = X[:train_split]\n",
        "y_train = y[:train_split]\n",
        "X_test, y_test = X[train_split:], y[train_split:]"
      ],
      "metadata": {
        "id": "ceZeK1kCtrm_"
      },
      "execution_count": null,
      "outputs": []
    },
    {
      "cell_type": "code",
      "source": [
        "len(X_train),len(y_train),len(X_test),len(y_test)"
      ],
      "metadata": {
        "colab": {
          "base_uri": "https://localhost:8080/"
        },
        "id": "kXyiARTOuHzz",
        "outputId": "840d9870-a64a-47c0-ea17-244d00482aee"
      },
      "execution_count": null,
      "outputs": [
        {
          "output_type": "execute_result",
          "data": {
            "text/plain": [
              "(40, 40, 10, 10)"
            ]
          },
          "metadata": {},
          "execution_count": 45
        }
      ]
    },
    {
      "cell_type": "markdown",
      "source": [
        "create the plot prediction function"
      ],
      "metadata": {
        "id": "GXWbCYjLuMsX"
      }
    },
    {
      "cell_type": "code",
      "source": [
        "plot_prediction(X_train, y_train, X_test, y_test)"
      ],
      "metadata": {
        "colab": {
          "base_uri": "https://localhost:8080/",
          "height": 599
        },
        "id": "oqNT9V7VuLFG",
        "outputId": "38a185d1-aa96-4c55-a50c-f2c3b30c05fb"
      },
      "execution_count": null,
      "outputs": [
        {
          "output_type": "display_data",
          "data": {
            "text/plain": [
              "<Figure size 1000x700 with 1 Axes>"
            ],
            "image/png": "[encoded data removed]"
          },
          "metadata": {}
        }
      ]
    },
    {
      "cell_type": "markdown",
      "source": [
        "create the model"
      ],
      "metadata": {
        "id": "8c7CliI8uhib"
      }
    },
    {
      "cell_type": "code",
      "source": [
        "class LinearRegression(torch.nn.module):\n",
        "  def __init__(self):\n",
        "    super().__init__()\n",
        "    self.weight = nn.Parameter(torch.randn(1,requires_grad = True,dtype = torch.float))\n",
        "    self.bias = nn.Parameter(torch.randn(1,requires_grad = True,dtype = torch.float))\n",
        "  def forward(self,x:torch.Tensor) -> torch.Tensor:\n",
        "    return self.weight * x + self.bias\n"
      ],
      "metadata": {
        "id": "y93oRvZ5ujVK"
      },
      "execution_count": null,
      "outputs": []
    },
    {
      "cell_type": "markdown",
      "source": [
        "# Using Linear layer from Torch.nn"
      ],
      "metadata": {
        "id": "f2VY3pJGx68N"
      }
    },
    {
      "cell_type": "code",
      "source": [
        "class LinearRegressionV2(nn.Module):\n",
        "  def __init__(self):\n",
        "    super().__init__()\n",
        "    # use nn.Linear() for creating the model parameters\n",
        "    self.linear_layer = nn.Linear(in_features = 1, out_features = 1)\n",
        "\n",
        "  # forward method\n",
        "  def forward(self,X:torch.Tensor)-> torch.tensor:\n",
        "    return self.linear_layer(X)\n",
        "\n",
        "torch.manual_seed(42)\n",
        "model_1 = LinearRegressionV2()\n",
        "model_1.state_dict()"
      ],
      "metadata": {
        "colab": {
          "base_uri": "https://localhost:8080/"
        },
        "id": "pHVPZ3q9vWSo",
        "outputId": "90596645-92ea-4b0c-c80e-6bc7c365a13c"
      },
      "execution_count": null,
      "outputs": [
        {
          "output_type": "execute_result",
          "data": {
            "text/plain": [
              "OrderedDict([('linear_layer.weight', tensor([[0.7645]])),\n",
              "             ('linear_layer.bias', tensor([0.8300]))])"
            ]
          },
          "metadata": {},
          "execution_count": 57
        }
      ]
    },
    {
      "cell_type": "code",
      "source": [
        "loss_fn = nn.L1Loss()\n",
        "optimizer = torch.optim.SGD(params = model_1.parameters(),lr = 0.01)"
      ],
      "metadata": {
        "id": "ddmaEltMyet9"
      },
      "execution_count": null,
      "outputs": []
    },
    {
      "cell_type": "markdown",
      "source": [
        "# Train the model using the train loop and testing loop"
      ],
      "metadata": {
        "id": "QNmh4qcLyHA3"
      }
    },
    {
      "cell_type": "code",
      "source": [
        "torch.manual_seed(42)\n",
        "epochs = 200\n",
        "epoch_count = []\n",
        "loss_values = []\n",
        "test_loss_values = []\n",
        "for epoch in range(epochs):\n",
        "  epoch_count.append(epoch)\n",
        "  model_1.train()\n",
        "  y_pred = model_1(X_train)\n",
        "  train_loss = loss_fn(y_pred, y_train)\n",
        "  loss_values.append(train_loss)\n",
        "  optimizer.zero_grad()\n",
        "  train_loss.backward()\n",
        "  optimizer.step()\n",
        "  model_1.eval()\n",
        "  with torch.inference_mode():\n",
        "    test_pred = model_1(X_test)\n",
        "    test_loss = loss_fn(test_pred, y_test)\n",
        "    test_loss_values.append(test_loss)\n",
        "    if epoch % 10 == 0:\n",
        "      print(f'epoch:{epoch}, loss = {train_loss},test_loss:{test_loss}')"
      ],
      "metadata": {
        "colab": {
          "base_uri": "https://localhost:8080/"
        },
        "id": "6BbMCRhRyJa_",
        "outputId": "4cd4a1ae-6657-407c-9c5c-c63f82b7bb97"
      },
      "execution_count": null,
      "outputs": [
        {
          "output_type": "stream",
          "name": "stdout",
          "text": [
            "epoch:0, loss = 0.5551779866218567,test_loss:0.5739762187004089\n",
            "epoch:10, loss = 0.4399680495262146,test_loss:0.4392663538455963\n",
            "epoch:20, loss = 0.3247582018375397,test_loss:0.30455657839775085\n",
            "epoch:30, loss = 0.20954827964305878,test_loss:0.16984674334526062\n",
            "epoch:40, loss = 0.09433844685554504,test_loss:0.03513689711689949\n",
            "epoch:50, loss = 0.023886386305093765,test_loss:0.04784906655550003\n",
            "epoch:60, loss = 0.0199567973613739,test_loss:0.04580312222242355\n",
            "epoch:70, loss = 0.016517987474799156,test_loss:0.0375305712223053\n",
            "epoch:80, loss = 0.013089170679450035,test_loss:0.029944902285933495\n",
            "epoch:90, loss = 0.009653178043663502,test_loss:0.02167237363755703\n",
            "epoch:100, loss = 0.006215679459273815,test_loss:0.014086711220443249\n",
            "epoch:110, loss = 0.002787243574857712,test_loss:0.005814164876937866\n",
            "epoch:120, loss = 0.0012645035749301314,test_loss:0.013801807537674904\n",
            "epoch:130, loss = 0.0012645035749301314,test_loss:0.013801807537674904\n",
            "epoch:140, loss = 0.0012645035749301314,test_loss:0.013801807537674904\n",
            "epoch:150, loss = 0.0012645035749301314,test_loss:0.013801807537674904\n",
            "epoch:160, loss = 0.0012645035749301314,test_loss:0.013801807537674904\n",
            "epoch:170, loss = 0.0012645035749301314,test_loss:0.013801807537674904\n",
            "epoch:180, loss = 0.0012645035749301314,test_loss:0.013801807537674904\n",
            "epoch:190, loss = 0.0012645035749301314,test_loss:0.013801807537674904\n"
          ]
        }
      ]
    },
    {
      "cell_type": "code",
      "source": [
        "model_1.state_dict()"
      ],
      "metadata": {
        "colab": {
          "base_uri": "https://localhost:8080/"
        },
        "id": "QVtc7ttJ0aCg",
        "outputId": "41d9dfbb-e87d-4883-e857-4b772c50be09"
      },
      "execution_count": null,
      "outputs": [
        {
          "output_type": "execute_result",
          "data": {
            "text/plain": [
              "OrderedDict([('linear_layer.weight', tensor([[0.6968]])),\n",
              "             ('linear_layer.bias', tensor([0.3025]))])"
            ]
          },
          "metadata": {},
          "execution_count": 60
        }
      ]
    },
    {
      "cell_type": "code",
      "source": [
        "plot_prediction(predictions = test_pred)"
      ],
      "metadata": {
        "colab": {
          "base_uri": "https://localhost:8080/",
          "height": 599
        },
        "id": "5--o-s7n0gz3",
        "outputId": "565eebea-5472-4625-be62-bef70fd4fc74"
      },
      "execution_count": null,
      "outputs": [
        {
          "output_type": "display_data",
          "data": {
            "text/plain": [
              "<Figure size 1000x700 with 1 Axes>"
            ],
            "image/png": "[encoded data removed]"
          },
          "metadata": {}
        }
      ]
    },
    {
      "cell_type": "code",
      "source": [
        "y_pred = model_1(X_test)\n",
        "y_pred"
      ],
      "metadata": {
        "colab": {
          "base_uri": "https://localhost:8080/"
        },
        "id": "DHnRHCgj17Nq",
        "outputId": "20254fb7-f430-4791-bc7d-2165b61834f5"
      },
      "execution_count": null,
      "outputs": [
        {
          "output_type": "execute_result",
          "data": {
            "text/plain": [
              "tensor([[0.8600],\n",
              "        [0.8739],\n",
              "        [0.8878],\n",
              "        [0.9018],\n",
              "        [0.9157],\n",
              "        [0.9296],\n",
              "        [0.9436],\n",
              "        [0.9575],\n",
              "        [0.9714],\n",
              "        [0.9854]], grad_fn=<AddmmBackward0>)"
            ]
          },
          "metadata": {},
          "execution_count": 62
        }
      ]
    },
    {
      "cell_type": "code",
      "source": [
        "epoch_values = torch.tensor(epoch_count).cpu().numpy()\n",
        "loss_values = torch.tensor(loss_values).cpu().numpy()\n",
        "test_loss_values = torch.tensor(test_loss_values).cpu().numpy()"
      ],
      "metadata": {
        "id": "wNXcqGbB1p9S"
      },
      "execution_count": null,
      "outputs": []
    },
    {
      "cell_type": "markdown",
      "source": [
        "plotting of the train_loss and test_loss function"
      ],
      "metadata": {
        "id": "6mfDPSzw41HO"
      }
    },
    {
      "cell_type": "code",
      "source": [
        "plt.plot(epoch_values, loss_values, label = 'training loss')\n",
        "plt.plot(epoch_values, test_loss_values, label = 'test loss')\n",
        "plt.title('training and test loss curves')\n",
        "plt.ylabel('loss')"
      ],
      "metadata": {
        "colab": {
          "base_uri": "https://localhost:8080/",
          "height": 470
        },
        "id": "y6qaWb0x2LVP",
        "outputId": "c815111c-87cd-4b43-9a35-5563dc45f25e"
      },
      "execution_count": null,
      "outputs": [
        {
          "output_type": "execute_result",
          "data": {
            "text/plain": [
              "Text(0, 0.5, 'loss')"
            ]
          },
          "metadata": {},
          "execution_count": 64
        },
        {
          "output_type": "display_data",
          "data": {
            "text/plain": [
              "<Figure size 640x480 with 1 Axes>"
            ],
            "image/png": "[encoded data removed]"
          },
          "metadata": {}
        }
      ]
    },
    {
      "cell_type": "markdown",
      "source": [
        "saving the model"
      ],
      "metadata": {
        "id": "l9idnmUj4u3d"
      }
    },
    {
      "cell_type": "code",
      "source": [
        "from pathlib import Path\n",
        "model_path = Path('models1')\n",
        "model_path.mkdir(parents = True, exist_ok = True)\n",
        "model_name = '01.model_1.pth'\n",
        "saved_path = model_path / model_name\n",
        "torch.save(obj = model_1.state_dict(),f = saved_path)\n",
        "print(f'saved path:{saved_path}')"
      ],
      "metadata": {
        "colab": {
          "base_uri": "https://localhost:8080/"
        },
        "id": "KMoHSfA_2eoc",
        "outputId": "8e3c2360-f2d3-4014-9276-dc18ea163761"
      },
      "execution_count": null,
      "outputs": [
        {
          "output_type": "stream",
          "name": "stdout",
          "text": [
            "saved path:models1/01.model_1.pth\n"
          ]
        }
      ]
    },
    {
      "cell_type": "code",
      "source": [
        "model_1.state_dict()"
      ],
      "metadata": {
        "colab": {
          "base_uri": "https://localhost:8080/"
        },
        "id": "NYmbJr9x4WYC",
        "outputId": "ec19228d-f452-4d9c-e504-18f08c119320"
      },
      "execution_count": null,
      "outputs": [
        {
          "output_type": "execute_result",
          "data": {
            "text/plain": [
              "OrderedDict([('linear_layer.weight', tensor([[0.6968]])),\n",
              "             ('linear_layer.bias', tensor([0.3025]))])"
            ]
          },
          "metadata": {},
          "execution_count": 74
        }
      ]
    },
    {
      "cell_type": "markdown",
      "source": [
        "loading the model"
      ],
      "metadata": {
        "id": "N5z51PDg4xx8"
      }
    },
    {
      "cell_type": "code",
      "source": [
        "model_11 = LinearRegressionV2()\n",
        "model_11.state_dict()\n",
        "model_11.load_state_dict(torch.load(f = saved_path))\n",
        "model_11.state_dict()"
      ],
      "metadata": {
        "colab": {
          "base_uri": "https://localhost:8080/"
        },
        "id": "auBlxztr3Inh",
        "outputId": "f5aaabad-011f-40b6-bf6b-f2df73a7759e"
      },
      "execution_count": null,
      "outputs": [
        {
          "output_type": "execute_result",
          "data": {
            "text/plain": [
              "OrderedDict([('linear_layer.weight', tensor([[0.6968]])),\n",
              "             ('linear_layer.bias', tensor([0.3025]))])"
            ]
          },
          "metadata": {},
          "execution_count": 78
        }
      ]
    },
    {
      "cell_type": "code",
      "source": [
        "model_11.eval()\n",
        "with torch.inference_mode():\n",
        "  y_pred = model_11(X_test)\n",
        "y_pred == test_pred"
      ],
      "metadata": {
        "colab": {
          "base_uri": "https://localhost:8080/"
        },
        "id": "m49ze4yd5PmG",
        "outputId": "17447165-5879-422d-baca-9050f77a420e"
      },
      "execution_count": null,
      "outputs": [
        {
          "output_type": "execute_result",
          "data": {
            "text/plain": [
              "tensor([[True],\n",
              "        [True],\n",
              "        [True],\n",
              "        [True],\n",
              "        [True],\n",
              "        [True],\n",
              "        [True],\n",
              "        [True],\n",
              "        [True],\n",
              "        [True]])"
            ]
          },
          "metadata": {},
          "execution_count": 79
        }
      ]
    }
  ]
}